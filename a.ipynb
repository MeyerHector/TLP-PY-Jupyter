{
 "cells": [
  {
   "cell_type": "markdown",
   "metadata": {},
   "source": [
    "#### Instalamos dependencias\n",
    "`pip install pandas matplotlib`"
   ]
  },
  {
   "cell_type": "markdown",
   "metadata": {},
   "source": [
    "### Punto 1"
   ]
  },
  {
   "cell_type": "code",
   "execution_count": 2,
   "metadata": {},
   "outputs": [
    {
     "name": "stdout",
     "output_type": "stream",
     "text": [
      "[1, 2, 3, 4, 5, 6, 7]\n"
     ]
    }
   ],
   "source": [
    "\n",
    "def eliminar_duplicados(datos_duplicados):\n",
    "    if not datos_duplicados: # Verifico que se hayan mandado datos\n",
    "        return 'No se encontraron datos'\n",
    "    elif len(datos_duplicados) == 1: # Si es un solo dato la devuelvo \n",
    "        return datos_duplicados\n",
    "    \n",
    "    lista_limpia = list(set(datos_duplicados)) # Los conjuntos no pueden tener datos duplicados, creo uno y le paso la lista duplicada, luego lo convierto a lista con list() y la retorno\n",
    "    \n",
    "    return lista_limpia\n",
    "\n",
    "print(eliminar_duplicados([1, 1, 2, 3, 4, 5, 5, 6, 7]))"
   ]
  },
  {
   "cell_type": "markdown",
   "metadata": {},
   "source": [
    "#### Importamos y definimos lo que vamos a utilizar"
   ]
  },
  {
   "cell_type": "code",
   "execution_count": 6,
   "metadata": {},
   "outputs": [],
   "source": [
    "import pandas as pd\n",
    "calificaciones = [\n",
    "{\"nombre\": \"Juan\", \"matematicas\": 85, \"ciencias\": 90, \"historia\": 75},\n",
    "{\"nombre\": \"María\", \"matematicas\": 70, \"ciencias\": 80, \"historia\": 85},\n",
    "{\"nombre\": \"Pedro\", \"matematicas\": 95, \"ciencias\": 75, \"historia\": 90},\n",
    "{\"nombre\": \"Ana\", \"matematicas\": 80, \"ciencias\": 85, \"historia\": 80},\n",
    "{\"nombre\": \"Luis\", \"matematicas\": 75, \"ciencias\": 70, \"historia\": 95},\n",
    "{\"nombre\": \"Sofía\", \"matematicas\": 90, \"ciencias\": 85, \"historia\": 75},\n",
    "{\"nombre\": \"Carlos\", \"matematicas\": 85, \"ciencias\": 90, \"historia\": 80},\n",
    "{\"nombre\": \"Elena\", \"matematicas\": 70, \"ciencias\": 75, \"historia\": 85},\n",
    "{\"nombre\": \"Javier\", \"matematicas\": 80, \"ciencias\": 85, \"historia\": 90},\n",
    "{\"nombre\": \"Laura\", \"matematicas\": 75, \"ciencias\": 70, \"historia\": 95},\n",
    "{\"nombre\": \"Diego\", \"matematicas\": 90, \"ciencias\": 85, \"historia\": 75},\n",
    "{\"nombre\": \"Paula\", \"matematicas\": 85, \"ciencias\": 90, \"historia\": 80},\n",
    "{\"nombre\": \"Carmen\", \"matematicas\": 70, \"ciencias\": 75, \"historia\": 85}\n",
    "]\n",
    "df = pd.DataFrame(calificaciones, columns=['nombre', 'matematicas', 'ciencias', 'historia'])"
   ]
  },
  {
   "cell_type": "markdown",
   "metadata": {},
   "source": [
    "#### Definimos la funcion para encontrar el promedio de notas"
   ]
  },
  {
   "cell_type": "code",
   "execution_count": 12,
   "metadata": {},
   "outputs": [
    {
     "name": "stdout",
     "output_type": "stream",
     "text": [
      "El promedio de matematicas es 80.76923076923077\n",
      "El promedio de ciencias es 81.15384615384616\n",
      "El promedio de historia es 83.84615384615384\n"
     ]
    }
   ],
   "source": [
    "def calcular_promedio(df, materia):\n",
    "\n",
    "    df_promedio = pd.DataFrame(df[f'{materia}']) # Genero un df con el nombre de la materia que recibo como parametro\n",
    "    \n",
    "    df_promedio['Fi'] = df_promedio[f'{materia}'].cumsum() # Agrego una columna de frecuencia simple acumulada para sumar la cantidad de notas\n",
    "    \n",
    "    promedio = df_promedio['Fi'].iloc[-1] / len(df_promedio['Fi']) # Divido la Fi por la cantidad de notas y obtengo el promedio\n",
    "\n",
    "    return f'El promedio de {materia} es {promedio}' # Devuelvo con su mensaje correspondiente\n",
    "\n",
    "print(calcular_promedio(df, 'matematicas'))\n",
    "print(calcular_promedio(df, 'ciencias'))\n",
    "print(calcular_promedio(df, 'historia'))"
   ]
  },
  {
   "cell_type": "markdown",
   "metadata": {},
   "source": [
    "#### Definimos una funcion para encontrar la calificacion mas alta"
   ]
  },
  {
   "cell_type": "markdown",
   "metadata": {},
   "source": [
    "Debemos pasarle la materia la cual queremos encontrar la nota"
   ]
  },
  {
   "cell_type": "code",
   "execution_count": 10,
   "metadata": {},
   "outputs": [
    {
     "name": "stdout",
     "output_type": "stream",
     "text": [
      "la calificacion mas alta de ciencias es de Juan y es de 90\n"
     ]
    }
   ],
   "source": [
    "def encontrar_calf_mas_altas(df, materia):\n",
    "\n",
    "    dataframe = pd.DataFrame(df[['nombre', f'{materia}']]) # Creo un df con el nombre (del estudiante) y la materia que se ingrese por parametros\n",
    "    \n",
    "    ordered_df = dataframe.sort_values(by=f'{materia}', ascending=False) # utilizo la funcion sort_values(), pasandole como parametro la materia, en orden descendiente, por lo que la nota mayor estara en la posicion 0\n",
    "    nombre_alumno = ordered_df.iloc[0]['nombre'] # Accedo a esa posicion y obtengo el nombre\n",
    "    nota_alumno = ordered_df.iloc[0][f'{materia}'] # Accedo a la misma posicion y obtengo la nota\n",
    "\n",
    "    return f'la calificacion mas alta de {materia} es de {nombre_alumno} y es de {nota_alumno}' # devuelvo mensaje con las variables correspondientes\n",
    "\n",
    "print(encontrar_calf_mas_altas(df, 'matematicas'))\n",
    "print(encontrar_calf_mas_altas(df, 'ciencias'))\n",
    "print(encontrar_calf_mas_altas(df, 'historia'))"
   ]
  },
  {
   "cell_type": "markdown",
   "metadata": {},
   "source": [
    "#### Funcion para obtener el porcentaje de aprobados de cada materia"
   ]
  },
  {
   "cell_type": "code",
   "execution_count": 13,
   "metadata": {},
   "outputs": [
    {
     "name": "stdout",
     "output_type": "stream",
     "text": [
      "El porcentaje de estudiantes que aprobaron matematicas es 100.0%\n",
      "El porcentaje de estudiantes que aprobaron ciencias es 100.0%\n",
      "El porcentaje de estudiantes que aprobaron historia es 100.0%\n"
     ]
    }
   ],
   "source": [
    "def porcentaje_aprobados(df, materia):\n",
    "\n",
    "    aprobados = df[df[materia] >= 60] # guardo en la variable aprobados solamente los datos del df en la cual la nota de la materia sea mayor igual a 60\n",
    "\n",
    "    porcentaje = (len(aprobados) / len(df)) * 100 # saco el porcentaje dividiendo la cantidad de aprobados por la cantidad de registros que hay en notas, y eso lo multiplico por 100\n",
    "    \n",
    "    return f'El porcentaje de estudiantes que aprobaron {materia} es {porcentaje}%' # devuelvo mensaje correspondiente\n",
    "\n",
    "print(porcentaje_aprobados(df, 'matematicas'))\n",
    "print(porcentaje_aprobados(df, 'ciencias'))\n",
    "print(porcentaje_aprobados(df, 'historia'))"
   ]
  },
  {
   "cell_type": "markdown",
   "metadata": {},
   "source": [
    "#### Funcion para obtener el promedio de calificacion por estudiante"
   ]
  },
  {
   "cell_type": "code",
   "execution_count": 14,
   "metadata": {},
   "outputs": [
    {
     "name": "stdout",
     "output_type": "stream",
     "text": [
      "    nombre  promedio\n",
      "0     Juan      83.0\n",
      "1    María      78.0\n",
      "2    Pedro      87.0\n",
      "3      Ana      82.0\n",
      "4     Luis      80.0\n",
      "5    Sofía      83.0\n",
      "6   Carlos      85.0\n",
      "7    Elena      77.0\n",
      "8   Javier      85.0\n",
      "9    Laura      80.0\n",
      "10   Diego      83.0\n",
      "11   Paula      85.0\n",
      "12  Carmen      77.0\n"
     ]
    }
   ],
   "source": [
    "def promedio_notas_por_estudiante(df):\n",
    "    # Creo un df que tenga los mismos datos del original pero agregandole otra columna llamada promedio\n",
    "    df_promedio_estudiantes = pd.DataFrame(df, columns=['nombre', 'matematicas', 'ciencias', 'historia', 'promedio'])\n",
    "    # Sumo las tres notas del mismo registro y lo guardo en promedio\n",
    "    df_promedio_estudiantes['promedio'] = df_promedio_estudiantes['matematicas'] + df_promedio_estudiantes['ciencias'] + df_promedio_estudiantes['historia']\n",
    "    # Y finalmente divido promedio por 3 para obtener el promedio final de nota por estudiante\n",
    "    df_promedio_estudiantes['promedio'] = (df_promedio_estudiantes['promedio'] / 3).round()\n",
    "\n",
    "    # Borro las columnas que ya no necesito con el metodo drop() pasandole las columnas que quiero que elimine, el axis en uno para que borre la columna por completo y no solamente los registros y por ultimo le paso inplace=True para que modifique el df original\n",
    "    df_promedio_estudiantes.drop(labels=['matematicas', 'ciencias', 'historia'], axis=1, inplace=True)\n",
    "\n",
    "    return df_promedio_estudiantes\n",
    "\n",
    "\n",
    "print(promedio_notas_por_estudiante(df))"
   ]
  },
  {
   "cell_type": "markdown",
   "metadata": {},
   "source": [
    "# Punto 3"
   ]
  },
  {
   "cell_type": "markdown",
   "metadata": {},
   "source": [
    "#### Primero guardamos los datos en una variable utilizando la funcion previamente definida\n",
    "Tambien tenemos que importar la libreria para crear el grafico "
   ]
  },
  {
   "cell_type": "code",
   "execution_count": 16,
   "metadata": {},
   "outputs": [],
   "source": [
    "import matplotlib.pyplot as plt\n",
    "datos = promedio_notas_por_estudiante(df)"
   ]
  },
  {
   "cell_type": "markdown",
   "metadata": {},
   "source": [
    "Luego definimos la funcion y le pasamos los datos como parametro"
   ]
  },
  {
   "cell_type": "code",
   "execution_count": 17,
   "metadata": {},
   "outputs": [
    {
     "data": {
      "image/png": "[encoded data removed]",
      "text/plain": [
       "<Figure size 640x480 with 1 Axes>"
      ]
     },
     "metadata": {},
     "output_type": "display_data"
    }
   ],
   "source": [
    "def crear_grafico(datos):\n",
    "\n",
    "    nombres = datos['nombre'] # Obtengo los nombres de los estudiantes y los promedios\n",
    "    promedios = datos['promedio']\n",
    "\n",
    "    plt.bar(nombres, promedios) # Creo el gráfico de barras\n",
    "\n",
    "    # Personalizacion\n",
    "    plt.xlabel('Estudiantes')\n",
    "    plt.ylabel('Promedio de calificaciones')\n",
    "    plt.title('Promedio de calificaciones por estudiante')\n",
    "\n",
    "    plt.show() # Muestro el gráfico\n",
    "\n",
    "crear_grafico(datos)"
   ]
  }
 ],
 "metadata": {
  "kernelspec": {
   "display_name": "venv",
   "language": "python",
   "name": "python3"
  },
  "language_info": {
   "codemirror_mode": {
    "name": "ipython",
    "version": 3
   },
   "file_extension": ".py",
   "mimetype": "text/x-python",
   "name": "python",
   "nbconvert_exporter": "python",
   "pygments_lexer": "ipython3",
   "version": "3.12.2"
  }
 },
 "nbformat": 4,
 "nbformat_minor": 2
}
